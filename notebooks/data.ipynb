{
  "cells": [
    {
      "cell_type": "markdown",
      "metadata": {
        "id": "vyu-bjmMCqZW"
      },
      "source": [
        "# Data notebook\n",
        "Preparing data for training model. Initial ideas for working with data in other parts of project. **Prepared in colab**\n",
        "\n",
        "URL to notebook: https://colab.research.google.com/drive/1mabI64REX7Vxtui5R8nuqT6hxGe1Uwv9 "
      ]
    },
    {
      "cell_type": "markdown",
      "metadata": {
        "id": "J2MxYsWxDH4Y"
      },
      "source": [
        "## Imports, drive connection"
      ]
    },
    {
      "cell_type": "code",
      "execution_count": 45,
      "metadata": {
        "colab": {
          "base_uri": "https://localhost:8080/"
        },
        "id": "sdA2halTb2sF",
        "outputId": "f3693707-6a68-460f-f3f6-7c48fc022827"
      },
      "outputs": [
        {
          "name": "stdout",
          "output_type": "stream",
          "text": [
            "Drive already mounted at content/; to attempt to forcibly remount, call drive.mount(\"content/\", force_remount=True).\n"
          ]
        }
      ],
      "source": [
        "from google.colab import drive\n",
        "\n",
        "drive.mount('content/')"
      ]
    },
    {
      "cell_type": "code",
      "execution_count": 46,
      "metadata": {
        "id": "YtL9i7Ipb8fZ"
      },
      "outputs": [],
      "source": [
        "import json\n",
        "import uuid\n",
        "import os\n",
        "import zipfile\n",
        "import pandas as pd\n",
        "import skimage.io as io\n",
        "import matplotlib.pyplot as plt\n",
        "import numpy as np\n",
        "import torch\n",
        "import torch.nn as nn\n",
        "import torch.nn.functional as F\n",
        "from skimage.transform import resize\n",
        "from torch.utils.data import Dataset, DataLoader\n",
        "from torchvision import transforms\n",
        "import cv2\n",
        "import shutil"
      ]
    },
    {
      "cell_type": "code",
      "execution_count": 47,
      "metadata": {
        "id": "a2blMu5tcjBY"
      },
      "outputs": [],
      "source": [
        "DATA_PATH = os.path.join('content', 'MyDrive', 'coco2017-annotations')"
      ]
    },
    {
      "cell_type": "code",
      "execution_count": 48,
      "metadata": {
        "id": "OsgLju6mhQIf"
      },
      "outputs": [],
      "source": [
        "if not os.path.isdir(os.path.join(DATA_PATH, 'annotations')):\n",
        "  with zipfile.ZipFile(os.path.join(DATA_PATH, 'annotations_trainval2017.zip'), 'r') as data:\n",
        "    data.extractall(DATA_PATH)"
      ]
    },
    {
      "cell_type": "markdown",
      "metadata": {
        "id": "-g6AAJahcj7f"
      },
      "source": [
        "## Upload annotations\n",
        "Meaning of content in annottaions: https://www.immersivelimit.com/tutorials/create-coco-annotations-from-scratch/#coco-dataset-format"
      ]
    },
    {
      "cell_type": "code",
      "execution_count": 49,
      "metadata": {
        "id": "9UjUrzcshgPW"
      },
      "outputs": [],
      "source": [
        "anno_train_path = os.path.join(DATA_PATH, 'annotations', 'instances_train2017.json')\n",
        "\n",
        "with open(anno_train_path, 'r') as f:\n",
        "  data = f.read()\n",
        "\n",
        "data = json.loads(data)"
      ]
    },
    {
      "cell_type": "markdown",
      "metadata": {
        "id": "prbNraAyCgEe"
      },
      "source": [
        "## Data presentation"
      ]
    },
    {
      "cell_type": "code",
      "execution_count": 50,
      "metadata": {
        "colab": {
          "base_uri": "https://localhost:8080/"
        },
        "id": "_XWJN2nf7Q36",
        "outputId": "50c8dafc-d996-485a-e52b-430aebab35b7"
      },
      "outputs": [
        {
          "data": {
            "text/plain": [
              "dict_keys(['info', 'licenses', 'images', 'annotations', 'categories'])"
            ]
          },
          "execution_count": 50,
          "metadata": {},
          "output_type": "execute_result"
        }
      ],
      "source": [
        "data.keys()"
      ]
    },
    {
      "cell_type": "code",
      "execution_count": 51,
      "metadata": {
        "colab": {
          "base_uri": "https://localhost:8080/"
        },
        "id": "W4AxrgRT2T0D",
        "outputId": "f95146b3-b301-4223-d100-b12d9290cc8b"
      },
      "outputs": [
        {
          "data": {
            "text/plain": [
              "118287"
            ]
          },
          "execution_count": 51,
          "metadata": {},
          "output_type": "execute_result"
        }
      ],
      "source": [
        "len(data['images'])"
      ]
    },
    {
      "cell_type": "code",
      "execution_count": 52,
      "metadata": {
        "colab": {
          "base_uri": "https://localhost:8080/"
        },
        "id": "GE3aXh_k9Dp8",
        "outputId": "2107c3e7-eda5-4fdc-ebd1-34f675bbcb4c"
      },
      "outputs": [
        {
          "data": {
            "text/plain": [
              "{'contributor': 'COCO Consortium',\n",
              " 'date_created': '2017/09/01',\n",
              " 'description': 'COCO 2017 Dataset',\n",
              " 'url': 'http://cocodataset.org',\n",
              " 'version': '1.0',\n",
              " 'year': 2017}"
            ]
          },
          "execution_count": 52,
          "metadata": {},
          "output_type": "execute_result"
        }
      ],
      "source": [
        "data['info']"
      ]
    },
    {
      "cell_type": "code",
      "execution_count": 53,
      "metadata": {
        "colab": {
          "base_uri": "https://localhost:8080/"
        },
        "id": "g7ApwEHu9Dsg",
        "outputId": "134c44a8-7dd6-4f1a-ffc9-eedce9d30e0b"
      },
      "outputs": [
        {
          "data": {
            "text/plain": [
              "[{'id': 1,\n",
              "  'name': 'Attribution-NonCommercial-ShareAlike License',\n",
              "  'url': 'http://creativecommons.org/licenses/by-nc-sa/2.0/'},\n",
              " {'id': 2,\n",
              "  'name': 'Attribution-NonCommercial License',\n",
              "  'url': 'http://creativecommons.org/licenses/by-nc/2.0/'},\n",
              " {'id': 3,\n",
              "  'name': 'Attribution-NonCommercial-NoDerivs License',\n",
              "  'url': 'http://creativecommons.org/licenses/by-nc-nd/2.0/'},\n",
              " {'id': 4,\n",
              "  'name': 'Attribution License',\n",
              "  'url': 'http://creativecommons.org/licenses/by/2.0/'},\n",
              " {'id': 5,\n",
              "  'name': 'Attribution-ShareAlike License',\n",
              "  'url': 'http://creativecommons.org/licenses/by-sa/2.0/'},\n",
              " {'id': 6,\n",
              "  'name': 'Attribution-NoDerivs License',\n",
              "  'url': 'http://creativecommons.org/licenses/by-nd/2.0/'},\n",
              " {'id': 7,\n",
              "  'name': 'No known copyright restrictions',\n",
              "  'url': 'http://flickr.com/commons/usage/'},\n",
              " {'id': 8,\n",
              "  'name': 'United States Government Work',\n",
              "  'url': 'http://www.usa.gov/copyright.shtml'}]"
            ]
          },
          "execution_count": 53,
          "metadata": {},
          "output_type": "execute_result"
        }
      ],
      "source": [
        "data['licenses']"
      ]
    },
    {
      "cell_type": "code",
      "execution_count": 54,
      "metadata": {
        "colab": {
          "base_uri": "https://localhost:8080/"
        },
        "id": "X_hf2bhR9Dvf",
        "outputId": "cf38ec34-f24b-415b-bc3d-0853fe8b34d2"
      },
      "outputs": [
        {
          "data": {
            "text/plain": [
              "{'coco_url': 'http://images.cocodataset.org/train2017/000000391895.jpg',\n",
              " 'date_captured': '2013-11-14 11:18:45',\n",
              " 'file_name': '000000391895.jpg',\n",
              " 'flickr_url': 'http://farm9.staticflickr.com/8186/8119368305_4e622c8349_z.jpg',\n",
              " 'height': 360,\n",
              " 'id': 391895,\n",
              " 'license': 3,\n",
              " 'width': 640}"
            ]
          },
          "execution_count": 54,
          "metadata": {},
          "output_type": "execute_result"
        }
      ],
      "source": [
        "data['images'][0]"
      ]
    },
    {
      "cell_type": "code",
      "execution_count": 55,
      "metadata": {
        "colab": {
          "base_uri": "https://localhost:8080/"
        },
        "id": "KVXP-Ci_7cAx",
        "outputId": "316b192f-4da8-4f10-8236-2bd193c1c069"
      },
      "outputs": [
        {
          "data": {
            "text/plain": [
              "{'area': 2765.1486500000005,\n",
              " 'bbox': [199.84, 200.46, 77.71, 70.88],\n",
              " 'category_id': 58,\n",
              " 'id': 156,\n",
              " 'image_id': 558840,\n",
              " 'iscrowd': 0,\n",
              " 'segmentation': [[239.97,\n",
              "   260.24,\n",
              "   222.04,\n",
              "   270.49,\n",
              "   199.84,\n",
              "   253.41,\n",
              "   213.5,\n",
              "   227.79,\n",
              "   259.62,\n",
              "   200.46,\n",
              "   274.13,\n",
              "   202.17,\n",
              "   277.55,\n",
              "   210.71,\n",
              "   249.37,\n",
              "   253.41,\n",
              "   237.41,\n",
              "   264.51,\n",
              "   242.54,\n",
              "   261.95,\n",
              "   228.87,\n",
              "   271.34]]}"
            ]
          },
          "execution_count": 55,
          "metadata": {},
          "output_type": "execute_result"
        }
      ],
      "source": [
        "data['annotations'][0]"
      ]
    },
    {
      "cell_type": "code",
      "execution_count": 56,
      "metadata": {
        "colab": {
          "base_uri": "https://localhost:8080/"
        },
        "id": "KCDuE0VV85Li",
        "outputId": "47a5484e-db36-4aa2-c22d-d64d38934af1"
      },
      "outputs": [
        {
          "data": {
            "text/plain": [
              "[{'id': 1, 'name': 'person', 'supercategory': 'person'},\n",
              " {'id': 2, 'name': 'bicycle', 'supercategory': 'vehicle'},\n",
              " {'id': 3, 'name': 'car', 'supercategory': 'vehicle'},\n",
              " {'id': 4, 'name': 'motorcycle', 'supercategory': 'vehicle'},\n",
              " {'id': 5, 'name': 'airplane', 'supercategory': 'vehicle'},\n",
              " {'id': 6, 'name': 'bus', 'supercategory': 'vehicle'},\n",
              " {'id': 7, 'name': 'train', 'supercategory': 'vehicle'},\n",
              " {'id': 8, 'name': 'truck', 'supercategory': 'vehicle'},\n",
              " {'id': 9, 'name': 'boat', 'supercategory': 'vehicle'},\n",
              " {'id': 10, 'name': 'traffic light', 'supercategory': 'outdoor'},\n",
              " {'id': 11, 'name': 'fire hydrant', 'supercategory': 'outdoor'},\n",
              " {'id': 13, 'name': 'stop sign', 'supercategory': 'outdoor'},\n",
              " {'id': 14, 'name': 'parking meter', 'supercategory': 'outdoor'},\n",
              " {'id': 15, 'name': 'bench', 'supercategory': 'outdoor'},\n",
              " {'id': 16, 'name': 'bird', 'supercategory': 'animal'},\n",
              " {'id': 17, 'name': 'cat', 'supercategory': 'animal'},\n",
              " {'id': 18, 'name': 'dog', 'supercategory': 'animal'},\n",
              " {'id': 19, 'name': 'horse', 'supercategory': 'animal'},\n",
              " {'id': 20, 'name': 'sheep', 'supercategory': 'animal'},\n",
              " {'id': 21, 'name': 'cow', 'supercategory': 'animal'},\n",
              " {'id': 22, 'name': 'elephant', 'supercategory': 'animal'},\n",
              " {'id': 23, 'name': 'bear', 'supercategory': 'animal'},\n",
              " {'id': 24, 'name': 'zebra', 'supercategory': 'animal'},\n",
              " {'id': 25, 'name': 'giraffe', 'supercategory': 'animal'},\n",
              " {'id': 27, 'name': 'backpack', 'supercategory': 'accessory'},\n",
              " {'id': 28, 'name': 'umbrella', 'supercategory': 'accessory'},\n",
              " {'id': 31, 'name': 'handbag', 'supercategory': 'accessory'},\n",
              " {'id': 32, 'name': 'tie', 'supercategory': 'accessory'},\n",
              " {'id': 33, 'name': 'suitcase', 'supercategory': 'accessory'},\n",
              " {'id': 34, 'name': 'frisbee', 'supercategory': 'sports'},\n",
              " {'id': 35, 'name': 'skis', 'supercategory': 'sports'},\n",
              " {'id': 36, 'name': 'snowboard', 'supercategory': 'sports'},\n",
              " {'id': 37, 'name': 'sports ball', 'supercategory': 'sports'},\n",
              " {'id': 38, 'name': 'kite', 'supercategory': 'sports'},\n",
              " {'id': 39, 'name': 'baseball bat', 'supercategory': 'sports'},\n",
              " {'id': 40, 'name': 'baseball glove', 'supercategory': 'sports'},\n",
              " {'id': 41, 'name': 'skateboard', 'supercategory': 'sports'},\n",
              " {'id': 42, 'name': 'surfboard', 'supercategory': 'sports'},\n",
              " {'id': 43, 'name': 'tennis racket', 'supercategory': 'sports'},\n",
              " {'id': 44, 'name': 'bottle', 'supercategory': 'kitchen'},\n",
              " {'id': 46, 'name': 'wine glass', 'supercategory': 'kitchen'},\n",
              " {'id': 47, 'name': 'cup', 'supercategory': 'kitchen'},\n",
              " {'id': 48, 'name': 'fork', 'supercategory': 'kitchen'},\n",
              " {'id': 49, 'name': 'knife', 'supercategory': 'kitchen'},\n",
              " {'id': 50, 'name': 'spoon', 'supercategory': 'kitchen'},\n",
              " {'id': 51, 'name': 'bowl', 'supercategory': 'kitchen'},\n",
              " {'id': 52, 'name': 'banana', 'supercategory': 'food'},\n",
              " {'id': 53, 'name': 'apple', 'supercategory': 'food'},\n",
              " {'id': 54, 'name': 'sandwich', 'supercategory': 'food'},\n",
              " {'id': 55, 'name': 'orange', 'supercategory': 'food'},\n",
              " {'id': 56, 'name': 'broccoli', 'supercategory': 'food'},\n",
              " {'id': 57, 'name': 'carrot', 'supercategory': 'food'},\n",
              " {'id': 58, 'name': 'hot dog', 'supercategory': 'food'},\n",
              " {'id': 59, 'name': 'pizza', 'supercategory': 'food'},\n",
              " {'id': 60, 'name': 'donut', 'supercategory': 'food'},\n",
              " {'id': 61, 'name': 'cake', 'supercategory': 'food'},\n",
              " {'id': 62, 'name': 'chair', 'supercategory': 'furniture'},\n",
              " {'id': 63, 'name': 'couch', 'supercategory': 'furniture'},\n",
              " {'id': 64, 'name': 'potted plant', 'supercategory': 'furniture'},\n",
              " {'id': 65, 'name': 'bed', 'supercategory': 'furniture'},\n",
              " {'id': 67, 'name': 'dining table', 'supercategory': 'furniture'},\n",
              " {'id': 70, 'name': 'toilet', 'supercategory': 'furniture'},\n",
              " {'id': 72, 'name': 'tv', 'supercategory': 'electronic'},\n",
              " {'id': 73, 'name': 'laptop', 'supercategory': 'electronic'},\n",
              " {'id': 74, 'name': 'mouse', 'supercategory': 'electronic'},\n",
              " {'id': 75, 'name': 'remote', 'supercategory': 'electronic'},\n",
              " {'id': 76, 'name': 'keyboard', 'supercategory': 'electronic'},\n",
              " {'id': 77, 'name': 'cell phone', 'supercategory': 'electronic'},\n",
              " {'id': 78, 'name': 'microwave', 'supercategory': 'appliance'},\n",
              " {'id': 79, 'name': 'oven', 'supercategory': 'appliance'},\n",
              " {'id': 80, 'name': 'toaster', 'supercategory': 'appliance'},\n",
              " {'id': 81, 'name': 'sink', 'supercategory': 'appliance'},\n",
              " {'id': 82, 'name': 'refrigerator', 'supercategory': 'appliance'},\n",
              " {'id': 84, 'name': 'book', 'supercategory': 'indoor'},\n",
              " {'id': 85, 'name': 'clock', 'supercategory': 'indoor'},\n",
              " {'id': 86, 'name': 'vase', 'supercategory': 'indoor'},\n",
              " {'id': 87, 'name': 'scissors', 'supercategory': 'indoor'},\n",
              " {'id': 88, 'name': 'teddy bear', 'supercategory': 'indoor'},\n",
              " {'id': 89, 'name': 'hair drier', 'supercategory': 'indoor'},\n",
              " {'id': 90, 'name': 'toothbrush', 'supercategory': 'indoor'}]"
            ]
          },
          "execution_count": 56,
          "metadata": {},
          "output_type": "execute_result"
        }
      ],
      "source": [
        "data['categories']"
      ]
    },
    {
      "cell_type": "markdown",
      "metadata": {
        "id": "KtwGDEOAe3qA"
      },
      "source": [
        "### Separete only categories for vehicles\n",
        " - and save only usefull data from each item"
      ]
    },
    {
      "cell_type": "code",
      "execution_count": 57,
      "metadata": {
        "id": "zqb6mZGW9Q_n"
      },
      "outputs": [],
      "source": [
        "new_annotations = {\n",
        "    'image_id': [],\n",
        "    'category_id': [],\n",
        "    'bbox': []\n",
        "}\n",
        "\n",
        "for item in data['annotations'][:3000]:\n",
        "  if item['category_id'] in [2,3,4,6,7,8]:\n",
        "\n",
        "    new_annotations['image_id'].append(item['image_id'])\n",
        "    new_annotations['category_id'].append(item['category_id'])\n",
        "    new_annotations['bbox'].append(item['bbox'])\n",
        "\n",
        "annotations_df = pd.DataFrame(new_annotations)"
      ]
    },
    {
      "cell_type": "markdown",
      "metadata": {
        "id": "pauj2lQsfaYh"
      },
      "source": [
        "### Drop unused images"
      ]
    },
    {
      "cell_type": "code",
      "execution_count": 58,
      "metadata": {
        "id": "uq6wY4ggfazY"
      },
      "outputs": [],
      "source": [
        "# Get ids of images from annotations_df\n",
        "image_ids = list(set(annotations_df['image_id'].tolist()))\n",
        "\n",
        "new_images = {\n",
        "    'id': [],\n",
        "    'coco_url': []\n",
        "}\n",
        "\n",
        "for item in data['images']:\n",
        "  if item['id'] in image_ids:\n",
        "    new_images['id'].append(item['id'])\n",
        "    new_images['coco_url'].append(item['coco_url'])\n",
        "\n",
        "images_df = pd.DataFrame(new_images)"
      ]
    },
    {
      "cell_type": "code",
      "execution_count": 59,
      "metadata": {
        "colab": {
          "base_uri": "https://localhost:8080/"
        },
        "id": "eQGesPUtfnEh",
        "outputId": "a6aba5fc-ecda-47bc-e0c7-13d1c1de1e85"
      },
      "outputs": [
        {
          "name": "stdout",
          "output_type": "stream",
          "text": [
            "No image: ID - 559665  url -  {'http://images.cocodataset.org/train2017/000000559665.jpg'}\n",
            "No image: ID - 559665  url -  {'http://images.cocodataset.org/train2017/000000559665.jpg'}\n"
          ]
        }
      ],
      "source": [
        "class CocoVehicle():\n",
        "  def __init__(self, anno_df, img_df, train=True, tranform=None):\n",
        "    self.anno_df = anno_df\n",
        "    self.img_df = img_df\n",
        "\n",
        "  def __len__(self):\n",
        "    return len(self.anno_df)\n",
        "\n",
        "  def __getitem__(self, index):\n",
        "    item = self.anno_df.iloc[index]\n",
        "    cat_id = item['category_id']\n",
        "\n",
        "    img_path = self.img_df[self.img_df['id'] == item['image_id']]['coco_url'].values[0]\n",
        "    img = io.imread(img_path)\n",
        "  \n",
        "    bbox = item['bbox']\n",
        "    bbox = [int(item) for item in bbox]\n",
        "\n",
        "    x, y, width, height = bbox\n",
        "\n",
        "    ####\n",
        "    # Show img with bbox\n",
        "    # only for development\n",
        "    # new = cv2.rectangle(img, (x, y), (x + width, y + height), color=(255,0,0), thickness=2)\n",
        "\n",
        "    # plt.imshow(new)\n",
        "    # plt.show()\n",
        "    ####\n",
        "    # adjust params to yolo format \n",
        "    # center_x, center_y, width, height -> [0, 1] where top left is (0, 0)\n",
        "    try:\n",
        "      img_height, img_width, _ = img.shape\n",
        "\n",
        "      center_x, center_y = x + width / 2, y + height / 2 \n",
        "\n",
        "      center_x, center_y, width, height = center_x / img_width, center_y / img_height, width / img_width, height / img_height\n",
        "\n",
        "      #### for dev\n",
        "      # img = io.imread(img_path)\n",
        "      ####\n",
        "      \n",
        "      # Resize\n",
        "      resized_img = resize(img, (480, 640), anti_aliasing=True)\n",
        "\n",
        "      # check if bbox are correctly drown after resize\n",
        "      # new = cv2.rectangle(resized_img, (int(640 * (center_x - width / 2)), int(480 * (center_y - height / 2))), (int(640 * (center_x + width / 2)), int(480 * (center_y + height / 2))), color=(255,0,0), thickness=2)\n",
        "      # plt.imshow(new)\n",
        "      # plt.show()\n",
        "\n",
        "      return resized_img, [center_x, center_y, width, height, cat_id]\n",
        "    except ValueError:\n",
        "      print('No image: ID -', item['image_id'], ' url - ', {img_path})\n",
        "      return False\n",
        "\n",
        "  def _write_to_file(self, path):\n",
        "    if os.path.exists(path):\n",
        "      shutil.rmtree(path)\n",
        "\n",
        "    os.mkdir(path)\n",
        "    os.mkdir(os.path.join(path, 'images'))\n",
        "    os.mkdir(os.path.join(path, 'labels'))\n",
        "\n",
        "    for item in range(len(self)):\n",
        "      if self[item]:  \n",
        "        img, anno = self[item]\n",
        "        \n",
        "        # generate id\n",
        "        id = uuid.uuid1()\n",
        "\n",
        "        # define paths to save data\n",
        "        path_imgs = os.path.join(path, 'images', str(id) + '.jpg')\n",
        "        path_anno = os.path.join(path, 'labels', str(id) + '.txt')\n",
        "\n",
        "        # write jpeg file with img \n",
        "        cv2.imwrite(path_imgs, img)\n",
        "\n",
        "        # write txt file with annotations\n",
        "        output_anno = ''\n",
        "        for ann in anno:\n",
        "\n",
        "          # List with annotations to yolo format string\n",
        "          output_anno += str(ann) + ' '\n",
        "        \n",
        "        with open(path_anno, 'w') as f:\n",
        "          f.write(output_anno)\n",
        "\n",
        "      # if image doesn't exist\n",
        "      else: \n",
        "        continue\n",
        "\n",
        "dataset = CocoVehicle(anno_df=annotations_df, img_df=images_df)\n",
        "dataset._write_to_file(os.path.join('content', 'MyDrive', 'data_proj-wdp'))"
      ]
    }
  ],
  "metadata": {
    "colab": {
      "collapsed_sections": [],
      "name": "data.ipynb",
      "provenance": []
    },
    "kernelspec": {
      "display_name": "Python 3",
      "name": "python3"
    },
    "language_info": {
      "name": "python"
    }
  },
  "nbformat": 4,
  "nbformat_minor": 0
}
